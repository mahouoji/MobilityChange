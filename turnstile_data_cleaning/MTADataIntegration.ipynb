{
 "cells": [
  {
   "cell_type": "code",
   "execution_count": 65,
   "metadata": {},
   "outputs": [],
   "source": [
    "from urllib import request\n",
    "from io import StringIO\n",
    "import csv\n",
    "import os\n",
    "import pandas as pd\n",
    "from urllib.request import urlretrieve\n"
   ]
  },
  {
   "cell_type": "code",
   "execution_count": 67,
   "metadata": {},
   "outputs": [
    {
     "name": "stdout",
     "output_type": "stream",
     "text": [
      "Read from url:http://web.mta.info/developers/data/nyct/turnstile/turnstile_200425.txt \r\n",
      "desfile:sources/turnstile_200425.txt\n"
     ]
    },
    {
     "data": {
      "text/plain": [
       "('sources/turnstile_200425.txt', <http.client.HTTPMessage at 0x7f9995e20898>)"
      ]
     },
     "execution_count": 67,
     "metadata": {},
     "output_type": "execute_result"
    }
   ],
   "source": [
    "# Read Turnstile data from mta.info\n",
    "\n",
    "datetime=200425\n",
    "\n",
    "try:\n",
    "    os.mkdir(\"output\")\n",
    "    os.mkdir(\"sources\")\n",
    "except:\n",
    "    pass\n",
    "\n",
    "url='http://web.mta.info/developers/data/nyct/turnstile/turnstile_'+str(datetime)+'.txt'\n",
    "\n",
    "desfile=\"sources/turnstile_\"+str(datetime)+\".txt\"\n",
    "print(\"Read from url:%s \\r\\ndesfile:%s\" % (url,desfile))\n",
    "\n",
    "urlretrieve(url, desfile)"
   ]
  },
  {
   "cell_type": "code",
   "execution_count": 68,
   "metadata": {},
   "outputs": [],
   "source": [
    "from pyspark import SparkContext \n",
    "from pyspark.sql import SQLContext\n",
    "import pyspark.sql.functions as F\n"
   ]
  },
  {
   "cell_type": "code",
   "execution_count": 69,
   "metadata": {
    "scrolled": true
   },
   "outputs": [
    {
     "name": "stdout",
     "output_type": "stream",
     "text": [
      "+---------------+--------+------------------------+---------------+\n",
      "|        STATION|DIVISION|RIDESHIP (ENTRIES+EXITS)|    STATION_low|\n",
      "+---------------+--------+------------------------+---------------+\n",
      "|    ATLANTIC AV|     BMT|               227760079|    atlantic av|\n",
      "|   81 ST-MUSEUM|     IND|              3332713649|   81 st-museum|\n",
      "|BEDFORD PK BLVD|     IRT|               200125765|bedford pk blvd|\n",
      "|    SARATOGA AV|     IRT|              5388787665|    saratoga av|\n",
      "|CONEY IS-STILLW|     BMT|             42117196805|coney is-stillw|\n",
      "|  EAST BROADWAY|     IND|              8487077797|  east broadway|\n",
      "| EXCHANGE PLACE|     PTH|               251225554| exchange place|\n",
      "|          96 ST|     IND|              2519334106|          96 st|\n",
      "|         168 ST|     IRT|              1090784537|         168 st|\n",
      "|      BERGEN ST|     IRT|              1253457672|      bergen st|\n",
      "| CATHEDRAL PKWY|     IRT|              1498803682| cathedral pkwy|\n",
      "|          65 ST|     IND|              1650245508|          65 st|\n",
      "|     NEPTUNE AV|     IND|               492983658|     neptune av|\n",
      "|KINGSTON-THROOP|     IND|              1148422346|kingston-throop|\n",
      "|       RALPH AV|     IND|              2079139017|       ralph av|\n",
      "|          75 AV|     IND|             61103895962|          75 av|\n",
      "|         169 ST|     IND|              2223539205|         169 st|\n",
      "|116 ST-COLUMBIA|     IRT|             62019124673|116 st-columbia|\n",
      "|NEWARK HW BMEBE|     PTH|                77592030|newark hw bmebe|\n",
      "|      CHURCH AV|     IND|              9354923625|      church av|\n",
      "+---------------+--------+------------------------+---------------+\n",
      "only showing top 20 rows\n",
      "\n"
     ]
    }
   ],
   "source": [
    "# Clean data in turnstile.txt. Calculate the ridership for each station.\n",
    "\n",
    "sc = SparkContext.getOrCreate()\n",
    "sqlContext = SQLContext(sc)\n",
    "\n",
    "df = sqlContext.read.format('com.databricks.spark.csv').options(header='true', inferschema='true').load('turnstile_200425.txt')\n",
    "\n",
    "df  = df.withColumnRenamed(\"EXITS                                                               \", \"EXITS\")\n",
    "\n",
    "df = df.withColumn('result', sum(df[col] for col in ['ENTRIES','EXITS']).cast('int'))\n",
    "df = df.groupBy('STATION','DIVISION').sum('result').withColumnRenamed(\"sum(result)\", \"RIDESHIP (ENTRIES+EXITS)\")\n",
    "\n",
    "df = df.withColumn(\"STATION_low\", F.lower(df.STATION))\n",
    "df.show()\n",
    "\n",
    "df.toPandas().to_csv('output/rideship.csv',mode='a', header=False)\n"
   ]
  },
  {
   "cell_type": "code",
   "execution_count": 70,
   "metadata": {},
   "outputs": [
    {
     "name": "stdout",
     "output_type": "stream",
     "text": [
      "+--------+--------------------+------------------+------------------+--------------------+\n",
      "|Division|             STATION|     GTFS Latitude|    GTFS Longitude|         STATION_low|\n",
      "+--------+--------------------+------------------+------------------+--------------------+\n",
      "|     IRT|         New Lots Av|         40.666235|        -73.884079|         new lots av|\n",
      "|     IRT|               28 St|        40.7451425|-73.98881449999999|               28 st|\n",
      "|     IRT|Eastern Pkwy - Br...|         40.671987|        -73.964375|eastern pkwy - br...|\n",
      "|     BMT|  Lexington Av/59 St|          40.76266|        -73.967258|  lexington av/59 st|\n",
      "|     BMT|               18 Av|        40.6143125|-73.99607499999999|               18 av|\n",
      "|     IND|                7 Av|40.714566500000004|-73.98097100000001|                7 av|\n",
      "|     IND|           Ditmas Av|         40.636119|        -73.978172|           ditmas av|\n",
      "|     IRT|         Winthrop St|         40.656652|          -73.9502|         winthrop st|\n",
      "|     IRT|              219 St|         40.883895|        -73.862633|              219 st|\n",
      "|     BMT|               50 St|          40.63626|        -73.994791|               50 st|\n",
      "|     IRT|     Pennsylvania Av|         40.664635|        -73.894895|     pennsylvania av|\n",
      "|     BMT|        Cortlandt St|         40.710668|        -74.011029|        cortlandt st|\n",
      "|     BMT|                1 Av|         40.730953|        -73.981628|                1 av|\n",
      "|     IRT|            Clark St|         40.697466|        -73.993086|            clark st|\n",
      "|     BMT|                9 Av|         40.646292|        -73.994324|                9 av|\n",
      "|     BMT|           Halsey St|40.690985999999995|-73.91032150000001|           halsey st|\n",
      "|     IRT|34 St - Penn Station|         40.750373|        -73.991057|34 st - penn station|\n",
      "|     IND|    Roosevelt Island|         40.759145|         -73.95326|    roosevelt island|\n",
      "|     IRT|      St Lawrence Av|         40.831509|        -73.867618|      st lawrence av|\n",
      "|     IRT|               69 St|         40.746325|        -73.896403|               69 st|\n",
      "+--------+--------------------+------------------+------------------+--------------------+\n",
      "only showing top 20 rows\n",
      "\n"
     ]
    }
   ],
   "source": [
    "# Clean data in Station.csv. As each station may have several entrances, So calculate the average Latitude and Longitude for these \n",
    "# stations with several entrances.\n",
    "\n",
    "df2 = sqlContext.read.format('com.databricks.spark.csv').options(header='true', inferschema='true').load('Stations.csv')\n",
    "df2 = df2.groupBy('Division','Stop Name').mean('GTFS Latitude','GTFS Longitude').withColumnRenamed(\"avg(GTFS Latitude)\", \"GTFS Latitude\").withColumnRenamed(\"avg(GTFS Longitude)\", \"GTFS Longitude\").withColumnRenamed(\"Stop Name\", \"STATION\")\n",
    "\n",
    "df2 = df2.withColumn(\"STATION_low\", F.lower(df2.STATION))\n",
    "df2.show()\n",
    "\n",
    "df2.toPandas().to_csv('output/stationLocation.csv')\n"
   ]
  },
  {
   "cell_type": "code",
   "execution_count": 71,
   "metadata": {},
   "outputs": [
    {
     "data": {
      "text/plain": [
       "[('STATION', 'string'),\n",
       " ('DIVISION', 'string'),\n",
       " ('RIDESHIP (ENTRIES+EXITS)', 'bigint'),\n",
       " ('STATION_low', 'string')]"
      ]
     },
     "execution_count": 71,
     "metadata": {},
     "output_type": "execute_result"
    }
   ],
   "source": [
    "ridership_df = df\n",
    "ridership_df.dtypes"
   ]
  },
  {
   "cell_type": "code",
   "execution_count": 72,
   "metadata": {},
   "outputs": [
    {
     "data": {
      "text/plain": [
       "[('Division', 'string'),\n",
       " ('STATION', 'string'),\n",
       " ('GTFS Latitude', 'double'),\n",
       " ('GTFS Longitude', 'double'),\n",
       " ('STATION_low', 'string')]"
      ]
     },
     "execution_count": 72,
     "metadata": {},
     "output_type": "execute_result"
    }
   ],
   "source": [
    "location_df = df2\n",
    "location_df.dtypes"
   ]
  },
  {
   "cell_type": "code",
   "execution_count": 73,
   "metadata": {},
   "outputs": [
    {
     "name": "stdout",
     "output_type": "stream",
     "text": [
      "+--------+--------------------+------------------+------------------+--------------------+---------------+--------+------------------------+---------------+\n",
      "|Division|             STATION|     GTFS Latitude|    GTFS Longitude|         STATION_low|        STATION|DIVISION|RIDESHIP (ENTRIES+EXITS)|    STATION_low|\n",
      "+--------+--------------------+------------------+------------------+--------------------+---------------+--------+------------------------+---------------+\n",
      "|     IRT|         New Lots Av|         40.666235|        -73.884079|         new lots av|    NEW LOTS AV|     IRT|              2814687477|    new lots av|\n",
      "|     IRT|               28 St|        40.7451425|-73.98881449999999|               28 st|          28 ST|     IRT|            101973516545|          28 st|\n",
      "|     IRT|Eastern Pkwy - Br...|         40.671987|        -73.964375|eastern pkwy - br...|           null|    null|                    null|           null|\n",
      "|     BMT|  Lexington Av/59 St|          40.76266|        -73.967258|  lexington av/59 st|           null|    null|                    null|           null|\n",
      "|     BMT|               18 Av|        40.6143125|-73.99607499999999|               18 av|          18 AV|     BMT|             97910773237|          18 av|\n",
      "|     IND|                7 Av|40.714566500000004|-73.98097100000001|                7 av|           7 AV|     IND|              4863113929|           7 av|\n",
      "|     IND|           Ditmas Av|         40.636119|        -73.978172|           ditmas av|      DITMAS AV|     IND|              3690525261|      ditmas av|\n",
      "|     IRT|         Winthrop St|         40.656652|          -73.9502|         winthrop st|    WINTHROP ST|     IRT|              1515420428|    winthrop st|\n",
      "|     IRT|              219 St|         40.883895|        -73.862633|              219 st|         219 ST|     IRT|             52165375902|         219 st|\n",
      "|     BMT|               50 St|          40.63626|        -73.994791|               50 st|          50 ST|     BMT|              1086003196|          50 st|\n",
      "|     IRT|     Pennsylvania Av|         40.664635|        -73.894895|     pennsylvania av|PENNSYLVANIA AV|     IRT|               460361096|pennsylvania av|\n",
      "|     BMT|        Cortlandt St|         40.710668|        -74.011029|        cortlandt st|   CORTLANDT ST|     BMT|            149106808874|   cortlandt st|\n",
      "|     BMT|                1 Av|         40.730953|        -73.981628|                1 av|           1 AV|     BMT|             53619944230|           1 av|\n",
      "|     IRT|            Clark St|         40.697466|        -73.993086|            clark st|       CLARK ST|     IRT|              2274694249|       clark st|\n",
      "|     BMT|                9 Av|         40.646292|        -73.994324|                9 av|           9 AV|     BMT|              2572456881|           9 av|\n",
      "|     BMT|           Halsey St|40.690985999999995|-73.91032150000001|           halsey st|      HALSEY ST|     BMT|              8154025074|      halsey st|\n",
      "|     IRT|34 St - Penn Station|         40.750373|        -73.991057|34 st - penn station|           null|    null|                    null|           null|\n",
      "|     IND|    Roosevelt Island|         40.759145|         -73.95326|    roosevelt island|           null|    null|                    null|           null|\n",
      "|     IRT|      St Lawrence Av|         40.831509|        -73.867618|      st lawrence av| ST LAWRENCE AV|     IRT|             55898819614| st lawrence av|\n",
      "|     IRT|               69 St|         40.746325|        -73.896403|               69 st|          69 ST|     IRT|              2304135165|          69 st|\n",
      "+--------+--------------------+------------------+------------------+--------------------+---------------+--------+------------------------+---------------+\n",
      "only showing top 20 rows\n",
      "\n"
     ]
    }
   ],
   "source": [
    "# Find the station names that are same in two lists.\n",
    "\n",
    "first_left_join = df2.join(df, (df.DIVISION == df2.Division) & (df.STATION_low == df2.STATION_low),how='left')\n",
    "\n",
    "first_left_join.show()\n",
    "first_left_join.toPandas().to_csv('output/left_join.csv')\n"
   ]
  },
  {
   "cell_type": "code",
   "execution_count": null,
   "metadata": {},
   "outputs": [],
   "source": []
  }
 ],
 "metadata": {
  "kernelspec": {
   "display_name": "Spark-2.3.0 / PySpark",
   "language": "python",
   "name": "python3"
  },
  "language_info": {
   "codemirror_mode": {
    "name": "ipython",
    "version": 3
   },
   "file_extension": ".py",
   "mimetype": "text/x-python",
   "name": "python",
   "nbconvert_exporter": "python",
   "pygments_lexer": "ipython3",
   "version": "3.6.5"
  }
 },
 "nbformat": 4,
 "nbformat_minor": 2
}
